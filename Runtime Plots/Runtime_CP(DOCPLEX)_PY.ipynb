{
 "cells": [
  {
   "cell_type": "code",
   "execution_count": 205,
   "metadata": {},
   "outputs": [],
   "source": [
    "from __future__ import print_function\n",
    "import random\n",
    "import numpy as np\n",
    "import time\n",
    "import pandas as pd\n",
    "import matplotlib.pyplot as plt\n",
    "from docplex.cp.model import CpoModel\n",
    "import math\n",
    "import seaborn as sns"
   ]
  },
  {
   "cell_type": "code",
   "execution_count": 47,
   "metadata": {},
   "outputs": [],
   "source": [
    "taxi=pd.read_csv(\"2018_Yellow_Taxi_Trip_Data.csv\",nrows =50)\n",
    "taxi=taxi[[\"tpep_pickup_datetime\",\"tpep_dropoff_datetime\",\"trip_distance\"]]\n",
    "taxi[\"tpep_pickup_datetime\"]=pd.to_datetime(taxi[\"tpep_pickup_datetime\"])\n",
    "taxi[\"tpep_dropoff_datetime\"]=pd.to_datetime(taxi[\"tpep_dropoff_datetime\"])\n",
    "taxi=taxi.sort_values(by =\"tpep_pickup_datetime\")\n",
    "taxi.index=[*range(taxi.shape[0])]\n",
    "\n",
    "pay=taxi['trip_distance'].tolist()"
   ]
  },
  {
   "cell_type": "markdown",
   "metadata": {},
   "source": [
    "# Natural Formulations "
   ]
  },
  {
   "cell_type": "code",
   "execution_count": 344,
   "metadata": {},
   "outputs": [],
   "source": [
    "def cplexF1_a5e3( icount,jcount ):\n",
    "    \n",
    "    male=range(0,jcount,2)\n",
    "    female=range(1,jcount,2)\n",
    "\n",
    "    mu1=10\n",
    "    mu2=10\n",
    "\n",
    "    lam1=0.5\n",
    "    lam2=0.5\n",
    "    lam3=0\n",
    "\n",
    "    dis=np.random.rand(icount,jcount)\n",
    "\n",
    "    mdl = CpoModel('F1')\n",
    "    M=integer_var_list(icount*jcount, 0, 1, \"M\")\n",
    "    u=float_var_list(jcount,0, 3, 'u')\n",
    "\n",
    "    l1=sum( mu2*sum(M[i*jcount+j]-1 for j in range(jcount))**2 for i in range(icount))\n",
    "    l2=sum(mu1*(sum(M[i*jcount+j]*(pay[i]-dis[i,j]) for i in range(icount)) -u[j])**2 for j in range(jcount))\n",
    "\n",
    "    intra5=sum( (1-(u[j]+0.01)/1.01)**2 for j in range(jcount))\n",
    "    muf=sum( (u[j]+0.01)/1.01 for j in female)/len(female)\n",
    "    mum=sum( (u[j]+0.01)/1.01 for j in male)/len(male)\n",
    "    inter3=(mum-muf)**2\n",
    "    CustCare=sum(M[i*jcount+j]*dis[i,j] for i in range(icount) for j in range(jcount))\n",
    "\n",
    "    obj=lam1*intra5+lam2*inter3+lam3*CustCare\n",
    "\n",
    "    for j in range(jcount):\n",
    "        mdl.add(1-sum(M[i*jcount+j] for i in range(icount)) >= 0)\n",
    "        mdl.add(sum(M[i*jcount+j]*(pay[i]-dis[i,j]) for i in range(icount)) == u[j])\n",
    "\n",
    "    for i in range(icount):\n",
    "        mdl.add(sum(M[i*jcount+j] for j in range(jcount))==1)\n",
    "\n",
    "    #for j in range(jcount):\n",
    "    #    for i in range(icount):\n",
    "    #        mdl.add(M[i*jcount+j]*(M[i*jcount+j]-1)==0)\n",
    "\n",
    "    #.mdl.add(minimize(obj))\n",
    "    #mdl.add(mdl.minimize_static_lex(obj))\n",
    "    mdl.minimize(obj)\n",
    "    msol = mdl.solve() #msol = mdl.solve() #\n",
    "    #msol.get_solve_status()\n",
    "    #msol.get_solve_time()\n",
    "    ulist=[]\n",
    "    for j in range(jcount):\n",
    "        ulist.append(msol.get_value(u[j]))\n",
    "    \n",
    "    return ulist, msol.get_solve_time()"
   ]
  },
  {
   "cell_type": "code",
   "execution_count": 347,
   "metadata": {},
   "outputs": [],
   "source": [
    "def cplexF1_a5e0( icount,jcount ):\n",
    "    # kdd \n",
    "    male=range(0,jcount,2)\n",
    "    female=range(1,jcount,2)\n",
    "\n",
    "    mu1=10\n",
    "    mu2=10\n",
    "\n",
    "    lam1=0.5\n",
    "    lam2=0.5\n",
    "    lam3=0\n",
    "\n",
    "    dis=np.random.rand(icount,jcount)\n",
    "\n",
    "    mdl = CpoModel('F1')\n",
    "    M=integer_var_list(icount*jcount, 0, 1, \"M\")\n",
    "    u=float_var_list(jcount,0, 3, 'u')\n",
    "\n",
    "    l1=sum( mu2*sum(M[i*jcount+j]-1 for j in range(jcount))**2 for i in range(icount))\n",
    "    l2=sum(mu1*(sum(M[i*jcount+j]*(pay[i]-dis[i,j]) for i in range(icount)) -u[j])**2 for j in range(jcount))\n",
    "\n",
    "    intra5=sum( (1-(u[j]+0.01)/1.01)**2 for j in range(jcount))\n",
    "    inter0=0\n",
    "    CustCare=sum(M[i*jcount+j]*dis[i,j] for i in range(icount) for j in range(jcount))\n",
    "\n",
    "    obj=lam1*intra5+lam2*inter0+lam3*CustCare\n",
    "\n",
    "    for j in range(jcount):\n",
    "        mdl.add(1-sum(M[i*jcount+j] for i in range(icount)) >= 0)\n",
    "        mdl.add(sum(M[i*jcount+j]*(pay[i]-dis[i,j]) for i in range(icount)) == u[j])\n",
    "\n",
    "    for i in range(icount):\n",
    "        mdl.add(sum(M[i*jcount+j] for j in range(jcount))==1)\n",
    "\n",
    "    #for j in range(jcount):\n",
    "    #    for i in range(icount):\n",
    "    #        mdl.add(M[i*jcount+j]*(M[i*jcount+j]-1)==0)\n",
    "\n",
    "    #.mdl.add(minimize(obj))\n",
    "    #mdl.add(mdl.minimize_static_lex(obj))\n",
    "    mdl.minimize(obj)\n",
    "    msol = mdl.solve() #msol = mdl.solve() #\n",
    "    #msol.get_solve_status()\n",
    "    #msol.get_solve_time()\n",
    "    ulist=[]\n",
    "    for j in range(jcount):\n",
    "        ulist.append(msol.get_value(u[j]))\n",
    "    \n",
    "    return ulist, msol.get_solve_time()"
   ]
  },
  {
   "cell_type": "code",
   "execution_count": 348,
   "metadata": {
    "scrolled": true
   },
   "outputs": [],
   "source": [
    "def parityCal(u,jcount):\n",
    "    \n",
    "    male=range(0,len(u),2)\n",
    "    female=range(1,len(u),2)\n",
    "\n",
    "    mu1=10\n",
    "    mu2=10\n",
    "    \n",
    "    mut=sum( (u[j]+0.01)/1.01 for j in range(jcount))/jcount\n",
    "    muf=sum( (u[j]+0.01)/1.01 for j in female)/len(female)\n",
    "    mum=sum( (u[j]+0.01)/1.01 for j in male)/len(male)\n",
    "    \n",
    "    intra2=sum( ((u[j]+0.01)/1.01/mut)*math.log((u[j]+0.01)/1.01/mut) for j in range(jcount))/jcount\n",
    "    intra3=sum( math.log(1.01*mut/(u[j]+0.01)) for j in range(jcount) )/jcount\n",
    "    intra4=sum( abs((u[j1]+0.01)/1.01 -(u[j2]+0.01)/1.01 ) for j1 in range(jcount)  for j2 in range(jcount) )/(2*mut*jcount**2)\n",
    "    intra5=sum( abs(1-(u[j]+0.01)/1.01) for j in range(jcount))\n",
    "    \n",
    "    inter1=len(female)*(muf/mut)*math.log(muf/mut)+len(male)*(mum/mut)*math.log(mum/mut)\n",
    "    inter2=len(female)*math.log(mut/muf)+len(male)*math.log(mut/mum)\n",
    "    inter3=abs(mum-muf)\n",
    "    \n",
    "    return [intra2,intra3,intra4,intra5,inter1,inter2,inter3]\n",
    "    #return [GE1,GE0,Gap1,Gap2,Gap3] #GE1,GE0,Gini,"
   ]
  },
  {
   "cell_type": "markdown",
   "metadata": {},
   "source": [
    "# Runtime of 'Intra 5 + Inter 3'"
   ]
  },
  {
   "cell_type": "code",
   "execution_count": null,
   "metadata": {},
   "outputs": [],
   "source": [
    "repeat=10\n",
    "ran=range(5,15)\n",
    "inter_name=['Sühr et al. 2019','Intra 5 + Inter 1','Intra 5 + Inter 2','Intra 5 + Inter 3']\n",
    "ind_name=['intra2','intra3','intra4','intra5','inter1','inter2','inter3']\n",
    "parity_inter3=pd.DataFrame(columns=ind_name+['runtime','size','inter_num'])\n",
    "\n",
    "for t in ran:\n",
    "    for r in range(repeat):        \n",
    "        u,runtime=cplexF1_a5e3(t,t)\n",
    "        par=parityCal(u,t)\n",
    "        parity_inter3=parity_inter3.append({'intra2': par[0],'intra3': par[1],'intra4': par[2],'intra5': par[3],'inter1': par[4],'inter2': par[5],'inter3': par[6],'runtime':runtime,'size':t,'inter_num':inter_name[3]}, ignore_index=True)\n",
    "\n",
    "parity_inter3['size']=parity_inter3['size'].astype('int32')\n",
    "parity_inter3.to_csv('parity_inter3.csv',index=False)"
   ]
  },
  {
   "cell_type": "markdown",
   "metadata": {},
   "source": [
    "# Runtime of 'Sühr et al. 2019'"
   ]
  },
  {
   "cell_type": "code",
   "execution_count": null,
   "metadata": {},
   "outputs": [],
   "source": [
    "repeat=10\n",
    "ran=range(5,15)\n",
    "inter_name=['Sühr et al. 2019','Intra 5 + Inter 1','Intra 5 + Inter 2','Intra 5 + Inter 3']\n",
    "ind_name=['intra2','intra3','intra4','intra5','inter1','inter2','inter3']\n",
    "parity_inter0=pd.DataFrame(columns=['size','runtime'])\n",
    "\n",
    "for t in ran:\n",
    "    for r in range(repeat):        \n",
    "        u,runtime=cplexF1_a5e0(t,t)\n",
    "        par=parityCal(u,t)\n",
    "        parity_inter0=parity_inter0.append({'size':t,'runtime':runtime}, ignore_index=True)\n",
    "\n",
    "parity_inter0['size']=parity_inter0['size'].astype('int32')\n",
    "parity_inter0.to_csv('runtime_kdd.csv',index=False)"
   ]
  }
 ],
 "metadata": {
  "kernelspec": {
   "display_name": "Python 3",
   "language": "python",
   "name": "python3"
  },
  "language_info": {
   "codemirror_mode": {
    "name": "ipython",
    "version": 3
   },
   "file_extension": ".py",
   "mimetype": "text/x-python",
   "name": "python",
   "nbconvert_exporter": "python",
   "pygments_lexer": "ipython3",
   "version": "3.8.5"
  }
 },
 "nbformat": 4,
 "nbformat_minor": 4
}
