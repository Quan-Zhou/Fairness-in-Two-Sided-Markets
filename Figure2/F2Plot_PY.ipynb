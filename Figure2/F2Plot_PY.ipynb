{
 "cells": [
  {
   "cell_type": "markdown",
   "metadata": {},
   "source": [
    "# Figure 2 (Bar Plot) in DOCPLEX"
   ]
  },
  {
   "cell_type": "code",
   "execution_count": 1,
   "metadata": {},
   "outputs": [],
   "source": [
    "import numpy as np\n",
    "import pandas as pd\n",
    "from docplex.cp.model import *\n",
    "import math\n",
    "import matplotlib.pyplot as plt\n",
    "import seaborn as sns\n",
    "from scipy import stats"
   ]
  },
  {
   "cell_type": "markdown",
   "metadata": {},
   "source": [
    "# Read data"
   ]
  },
  {
   "cell_type": "code",
   "execution_count": 8,
   "metadata": {},
   "outputs": [],
   "source": [
    "taxi=pd.read_csv(\"2018_Yellow_Taxi_Trip_Data.csv\",nrows =50)\n",
    "taxi=taxi[[\"tpep_pickup_datetime\",\"tpep_dropoff_datetime\",\"trip_distance\"]]\n",
    "taxi[\"tpep_pickup_datetime\"]=pd.to_datetime(taxi[\"tpep_pickup_datetime\"])\n",
    "taxi[\"tpep_dropoff_datetime\"]=pd.to_datetime(taxi[\"tpep_dropoff_datetime\"])\n",
    "taxi=taxi.sort_values(by =\"tpep_pickup_datetime\")\n",
    "taxi.index=[*range(taxi.shape[0])]\n",
    "\n",
    "pay=taxi['trip_distance'].tolist()"
   ]
  },
  {
   "cell_type": "markdown",
   "metadata": {},
   "source": [
    "# Define natural formulations:\n",
    "\n",
    "1. Intra5 + Inter1: cplexF1_a5e1 \n",
    "2. Intra5 + Inter2: cplexF1_a5e2 \n",
    "3. Intra5 + Inter3: cplexF1_a5e3\n",
    "4. Sühr et al. 2019:cplexF1_a5e0\n"
   ]
  },
  {
   "cell_type": "code",
   "execution_count": 3,
   "metadata": {},
   "outputs": [],
   "source": [
    "# natural formulation Intra5 + Inter3\n",
    "def cplexF1_a5e3( icount,jcount ):\n",
    "    \n",
    "    male=range(0,jcount,2)\n",
    "    female=range(1,jcount,2)\n",
    "\n",
    "    mu1=10\n",
    "    mu2=10\n",
    "\n",
    "    lam1=0.5\n",
    "    lam2=0.5\n",
    "    lam3=0\n",
    "\n",
    "    dis=np.random.rand(icount,jcount)\n",
    "\n",
    "    mdl = CpoModel('F1')\n",
    "    M=integer_var_list(icount*jcount, 0, 1, \"M\") #integer_var_list()\n",
    "    u=float_var_list(jcount,0, 3, 'u')\n",
    "\n",
    "    l1=sum(mu2*sum(M[i*jcount+j]-1 for j in range(jcount))**2 for i in range(icount))\n",
    "    l2=sum(mu1*(sum(M[i*jcount+j]*(pay[i]-dis[i,j]) for i in range(icount)) -u[j])**2 for j in range(jcount))\n",
    "\n",
    "    intra5=sum( (1-(u[j]+0.01)/1.01)**2 for j in range(jcount))\n",
    "    muf=sum( (u[j]+0.01)/1.01 for j in female)/len(female)\n",
    "    mum=sum( (u[j]+0.01)/1.01 for j in male)/len(male)\n",
    "    inter3=(mum-muf)**2\n",
    "    CustCare=sum(M[i*jcount+j]*dis[i,j] for i in range(icount) for j in range(jcount))\n",
    "\n",
    "    obj=lam1*intra5+lam2*inter3+lam3*CustCare\n",
    "\n",
    "    for j in range(jcount):\n",
    "        mdl.add(1-sum(M[i*jcount+j] for i in range(icount)) >= 0)\n",
    "        mdl.add(sum(M[i*jcount+j]*(pay[i]-dis[i,j]) for i in range(icount)) == u[j])\n",
    "\n",
    "    for i in range(icount):\n",
    "        mdl.add(sum(M[i*jcount+j] for j in range(jcount))==1)\n",
    "\n",
    "    #for j in range(jcount):\n",
    "    #    for i in range(icount):\n",
    "    #        mdl.add(M[i*jcount+j]*(M[i*jcount+j]-1)==0)\n",
    "\n",
    "    #.mdl.add(minimize(obj))\n",
    "    #mdl.add(mdl.minimize_static_lex(obj))\n",
    "    mdl.minimize(obj)\n",
    "    msol = mdl.solve() #msol = mdl.solve() #\n",
    "    #msol.get_solve_status()\n",
    "    #msol.get_solve_time()\n",
    "    ulist=[]\n",
    "    for j in range(jcount):\n",
    "        ulist.append(msol.get_value(u[j]))\n",
    "    \n",
    "    return ulist, msol.get_solve_time()"
   ]
  },
  {
   "cell_type": "code",
   "execution_count": 5,
   "metadata": {},
   "outputs": [],
   "source": [
    "# natural formulation Intra5 + Inter2\n",
    "def cplexF1_a5e2( icount,jcount ):\n",
    "    \n",
    "    male=range(0,jcount,2)\n",
    "    female=range(1,jcount,2)\n",
    "\n",
    "    mu1=10\n",
    "    mu2=10\n",
    "\n",
    "    lam1=0.5\n",
    "    lam2=0.5\n",
    "    lam3=0\n",
    "\n",
    "    dis=np.random.rand(icount,jcount)\n",
    "\n",
    "    mdl = CpoModel('F1')\n",
    "    M=integer_var_list(icount*jcount, 0, 1, \"M\")\n",
    "    u=float_var_list(jcount,0, 3, 'u')\n",
    "\n",
    "    l1=sum( mu2*sum(M[i*jcount+j]-1 for j in range(jcount))**2 for i in range(icount))\n",
    "    l2=sum(mu1*(sum(M[i*jcount+j]*(pay[i]-dis[i,j]) for i in range(icount)) -u[j])**2 for j in range(jcount))\n",
    "\n",
    "    intra5=sum( (1-(u[j]+0.01)/1.01)**2 for j in range(jcount))\n",
    "    mut=sum( (u[j]+0.01)/1.01 for j in range(jcount))/jcount\n",
    "    muf=sum( (u[j]+0.01)/1.01 for j in female)/len(female)\n",
    "    mum=sum( (u[j]+0.01)/1.01 for j in male)/len(male)\n",
    "    inter2=len(female)*log(mut/muf)+len(male)*log(mut/mum)\n",
    "    CustCare=sum(M[i*jcount+j]*dis[i,j] for i in range(icount) for j in range(jcount))\n",
    "\n",
    "    obj=lam1*intra5+lam2*inter2+lam3*CustCare\n",
    "\n",
    "    for j in range(jcount):\n",
    "        mdl.add(1-sum(M[i*jcount+j] for i in range(icount)) >= 0)\n",
    "        mdl.add(sum(M[i*jcount+j]*(pay[i]-dis[i,j]) for i in range(icount)) == u[j])\n",
    "\n",
    "    for i in range(icount):\n",
    "        mdl.add(sum(M[i*jcount+j] for j in range(jcount))==1)\n",
    "\n",
    "    #for j in range(jcount):\n",
    "    #    for i in range(icount):\n",
    "    #        mdl.add(M[i*jcount+j]*(M[i*jcount+j]-1)==0)\n",
    "\n",
    "    #.mdl.add(minimize(obj))\n",
    "    #mdl.add(mdl.minimize_static_lex(obj))\n",
    "    mdl.minimize(obj)\n",
    "    msol = mdl.solve() #msol = mdl.solve() #\n",
    "    #msol.get_solve_status()\n",
    "    #msol.get_solve_time()\n",
    "    ulist=[]\n",
    "    for j in range(jcount):\n",
    "        ulist.append(msol.get_value(u[j]))\n",
    "    \n",
    "    return ulist, msol.get_solve_time()"
   ]
  },
  {
   "cell_type": "code",
   "execution_count": 7,
   "metadata": {},
   "outputs": [],
   "source": [
    "# natural formulation Intra5 + Inter1\n",
    "def cplexF1_a5e1( icount,jcount ):\n",
    "    \n",
    "    male=range(0,jcount,2)\n",
    "    female=range(1,jcount,2)\n",
    "\n",
    "    mu1=10\n",
    "    mu2=10\n",
    "\n",
    "    lam1=0.5\n",
    "    lam2=0.5\n",
    "    lam3=0\n",
    "\n",
    "    dis=np.random.rand(icount,jcount)\n",
    "\n",
    "    mdl = CpoModel('F1')\n",
    "    M=integer_var_list(icount*jcount, 0, 1, \"M\")\n",
    "    u=float_var_list(jcount,0, 3, 'u')\n",
    "\n",
    "    l1=sum( mu2*sum(M[i*jcount+j]-1 for j in range(jcount))**2 for i in range(icount))\n",
    "    l2=sum(mu1*(sum(M[i*jcount+j]*(pay[i]-dis[i,j]) for i in range(icount)) -u[j])**2 for j in range(jcount))\n",
    "\n",
    "    intra5=sum( (1-(u[j]+0.01)/1.01)**2 for j in range(jcount))\n",
    "    mut=sum( (u[j]+0.01)/1.01 for j in range(jcount))/jcount\n",
    "    muf=sum( (u[j]+0.01)/1.01 for j in female)/len(female)\n",
    "    mum=sum( (u[j]+0.01)/1.01 for j in male)/len(male)\n",
    "    inter1=len(female)*(muf/mut)*log(muf/mut)+len(male)*(mum/mut)*log(mum/mut)\n",
    "    CustCare=sum(M[i*jcount+j]*dis[i,j] for i in range(icount) for j in range(jcount))\n",
    "\n",
    "    obj=lam1*intra5+lam2*inter1+lam3*CustCare\n",
    "\n",
    "    for j in range(jcount):\n",
    "        mdl.add(1-sum(M[i*jcount+j] for i in range(icount)) >= 0)\n",
    "        mdl.add(sum(M[i*jcount+j]*(pay[i]-dis[i,j]) for i in range(icount)) == u[j])\n",
    "\n",
    "    for i in range(icount):\n",
    "        mdl.add(sum(M[i*jcount+j] for j in range(jcount))==1)\n",
    "\n",
    "    #for j in range(jcount):\n",
    "    #    for i in range(icount):\n",
    "    #        mdl.add(M[i*jcount+j]*(M[i*jcount+j]-1)==0)\n",
    "\n",
    "    #.mdl.add(minimize(obj))\n",
    "    #mdl.add(mdl.minimize_static_lex(obj))\n",
    "    mdl.minimize(obj)\n",
    "    msol = mdl.solve() #msol = mdl.solve() #\n",
    "    #msol.get_solve_status()\n",
    "    #msol.get_solve_time()\n",
    "    ulist=[]\n",
    "    for j in range(jcount):\n",
    "        ulist.append(msol.get_value(u[j]))\n",
    "    \n",
    "    return ulist, msol.get_solve_time()"
   ]
  },
  {
   "cell_type": "code",
   "execution_count": 6,
   "metadata": {},
   "outputs": [],
   "source": [
    "# natural formulation Sühr et al. 2019\n",
    "def cplexF1_a5e0( icount,jcount ):\n",
    "    # kdd \n",
    "    male=range(0,jcount,2)\n",
    "    female=range(1,jcount,2)\n",
    "\n",
    "    mu1=10\n",
    "    mu2=10\n",
    "\n",
    "    lam1=0.5\n",
    "    lam2=0.5\n",
    "    lam3=0\n",
    "\n",
    "    dis=np.random.rand(icount,jcount)\n",
    "\n",
    "    mdl = CpoModel('F1')\n",
    "    M=integer_var_list(icount*jcount, 0, 1, \"M\")\n",
    "    u=float_var_list(jcount,0, 3, 'u')\n",
    "\n",
    "    l1=sum( mu2*sum(M[i*jcount+j]-1 for j in range(jcount))**2 for i in range(icount))\n",
    "    l2=sum(mu1*(sum(M[i*jcount+j]*(pay[i]-dis[i,j]) for i in range(icount)) -u[j])**2 for j in range(jcount))\n",
    "\n",
    "    intra5=sum( (1-(u[j]+0.01)/1.01)**2 for j in range(jcount))\n",
    "    inter0=0\n",
    "    CustCare=sum(M[i*jcount+j]*dis[i,j] for i in range(icount) for j in range(jcount))\n",
    "\n",
    "    obj=lam1*intra5+lam2*inter0+lam3*CustCare\n",
    "\n",
    "    for j in range(jcount):\n",
    "        mdl.add(1-sum(M[i*jcount+j] for i in range(icount)) >= 0)\n",
    "        mdl.add(sum(M[i*jcount+j]*(pay[i]-dis[i,j]) for i in range(icount)) == u[j])\n",
    "\n",
    "    for i in range(icount):\n",
    "        mdl.add(sum(M[i*jcount+j] for j in range(jcount))==1)\n",
    "\n",
    "    #for j in range(jcount):\n",
    "    #    for i in range(icount):\n",
    "    #        mdl.add(M[i*jcount+j]*(M[i*jcount+j]-1)==0)\n",
    "\n",
    "    #.mdl.add(minimize(obj))\n",
    "    #mdl.add(mdl.minimize_static_lex(obj))\n",
    "    mdl.minimize(obj)\n",
    "    msol = mdl.solve() #msol = mdl.solve() #\n",
    "    #msol.get_solve_status()\n",
    "    #msol.get_solve_time()\n",
    "    ulist=[]\n",
    "    for j in range(jcount):\n",
    "        ulist.append(msol.get_value(u[j]))\n",
    "    \n",
    "    return ulist, msol.get_solve_time()"
   ]
  },
  {
   "cell_type": "markdown",
   "metadata": {},
   "source": [
    "# Calculate indices:\n",
    "Intra-Fair2 (GE1), \n",
    "Intra-Fair3 (GE0), \n",
    "Intra-Fair4 (Gini), \n",
    "Inter-Fair1, \n",
    "Inter-Fair2, \n",
    "Inter-Fair3"
   ]
  },
  {
   "cell_type": "code",
   "execution_count": null,
   "metadata": {},
   "outputs": [],
   "source": [
    "def parityCal(u,jcount):\n",
    "    \n",
    "    male=range(0,len(u),2)\n",
    "    female=range(1,len(u),2)\n",
    "\n",
    "    mu1=10\n",
    "    mu2=10\n",
    "    \n",
    "    mut=sum( (u[j]+0.01)/1.01 for j in range(jcount))/jcount\n",
    "    muf=sum( (u[j]+0.01)/1.01 for j in female)/len(female)\n",
    "    mum=sum( (u[j]+0.01)/1.01 for j in male)/len(male)\n",
    "    \n",
    "    intra2=sum( ((u[j]+0.01)/1.01/mut)*math.log((u[j]+0.01)/1.01/mut) for j in range(jcount))/jcount\n",
    "    intra3=sum( math.log(1.01*mut/(u[j]+0.01)) for j in range(jcount) )/jcount\n",
    "    intra4=sum( abs((u[j1]+0.01)/1.01 -(u[j2]+0.01)/1.01 ) for j1 in range(jcount)  for j2 in range(jcount) )/(2*mut*jcount**2)\n",
    "    intra5=sum( abs(1-(u[j]+0.01)/1.01) for j in range(jcount))\n",
    "    \n",
    "    inter1=len(female)*(muf/mut)*math.log(muf/mut)+len(male)*(mum/mut)*math.log(mum/mut)\n",
    "    inter2=len(female)*math.log(mut/muf)+len(male)*math.log(mut/mum)\n",
    "    inter3=abs(mum-muf)\n",
    "    \n",
    "    return [intra2,intra3,intra4,intra5,inter1,inter2,inter3]\n",
    "    #return [GE1,GE0,Gap1,Gap2,Gap3] #GE1,GE0,Gini,"
   ]
  },
  {
   "cell_type": "markdown",
   "metadata": {},
   "source": [
    "# 30 Experiments "
   ]
  },
  {
   "cell_type": "code",
   "execution_count": 17,
   "metadata": {
    "scrolled": true
   },
   "outputs": [],
   "source": [
    "repeat=30\n",
    "t=5\n",
    "ran=range(5,6)\n",
    "inter_name=['Sühr et al. 2019','Intra 5 + Inter 1','Intra 5 + Inter 2','Intra 5 + Inter 3']\n",
    "#ind_name=[\"GE1\",\"GE0\",'Gap1','Gap2','Gap3']\n",
    "ind_name=['intra2','intra3','intra4','intra5','inter1','inter2','inter3']\n",
    "parity=pd.DataFrame(columns=ind_name+['runtime','size','inter_num'])\n",
    "\n",
    "#for t in ran:\n",
    "for r in range(repeat):        \n",
    "    u,runtime=cplexF1_a5e1(t,t)\n",
    "    par=parityCal(u,t)\n",
    "    parity=parity.append({'intra2': par[0],'intra3': par[1],'intra4': par[2],'intra5': par[3],'inter1': par[4],'inter2': par[5],'inter3': par[6],'runtime':runtime,'size':t,'inter_num':inter_name[1]}, ignore_index=True)\n",
    "\n",
    "    u,runtime=cplexF1_a5e2(t,t)\n",
    "    par=parityCal(u,t)\n",
    "    parity=parity.append({'intra2': par[0],'intra3': par[1],'intra4': par[2],'intra5': par[3],'inter1': par[4],'inter2': par[5],'inter3': par[6],'runtime':runtime,'size':t,'inter_num':inter_name[2]}, ignore_index=True)\n",
    "\n",
    "    u,runtime=cplexF1_a5e3(t,t)\n",
    "    par=parityCal(u,t)\n",
    "    parity=parity.append({'intra2': par[0],'intra3': par[1],'intra4': par[2],'intra5': par[3],'inter1': par[4],'inter2': par[5],'inter3': par[6],'runtime':runtime,'size':t,'inter_num':inter_name[3]}, ignore_index=True)\n",
    "\n",
    "    u,runtime=cplexF1_a5e0(t,t)\n",
    "    par=parityCal(u,t)\n",
    "    parity=parity.append({'intra2': par[0],'intra3': par[1],'intra4': par[2],'intra5': par[3],'inter1': par[4],'inter2': par[5],'inter3': par[6],'runtime':runtime,'size':t,'inter_num':inter_name[0]}, ignore_index=True)\n",
    "\n",
    "parity['size']=parity['size'].astype('int32')\n",
    "#parity['inter_num']=parity['inter_num'].astype('int32')\n",
    "\n",
    "parity.to_csv('parity_size5.csv',index=False)\n",
    "\n",
    "#parity.groupby(['inter_num','size']).count()"
   ]
  },
  {
   "cell_type": "markdown",
   "metadata": {},
   "source": [
    "# Bar plot"
   ]
  },
  {
   "cell_type": "code",
   "execution_count": 8,
   "metadata": {
    "scrolled": true
   },
   "outputs": [
    {
     "data": {
      "image/png": "[encoded data removed]",
      "text/plain": [
       "<Figure size 476.375x360 with 1 Axes>"
      ]
     },
     "metadata": {
      "needs_background": "light"
     },
     "output_type": "display_data"
    }
   ],
   "source": [
    "parity=pd.read_csv('parity_size5.csv',header=0)\n",
    "#par_size5=parity[parity['size']==5]\n",
    "par_size5=parity.drop(columns=['size', 'runtime','intra5'])\n",
    "par_size5=pd.melt(par_size5,id_vars=['inter_num'],var_name='index',value_name='value')\n",
    "\n",
    "par_size5=par_size5.rename(columns={'inter_num':'Formulation'})\n",
    "\n",
    "par_size5=par_size5.replace('intra2', 'GE1')\n",
    "par_size5=par_size5.replace('intra3', 'GE0')\n",
    "par_size5=par_size5.replace('intra4', 'Gini')\n",
    "\n",
    "#par_size5['Formulation']=par_size5['Formulation'].replace('inter 1 + intra 5','Intra 5 + Inter 1')\n",
    "#par_size5['Formulation']=par_size5['Formulation'].replace('inter 2 + intra 5','Intra 5 + Inter 2')\n",
    "#par_size5['Formulation']=par_size5['Formulation'].replace('inter 3 + intra 5','Intra 5 + Inter 3')\n",
    "\n",
    "g = sns.catplot(\n",
    "    data=par_size5, kind=\"bar\",\n",
    "    x='index', y='value', hue='Formulation',\n",
    "    ci=\"sd\", palette=\"bright\", alpha=.6\n",
    ")\n",
    "#, height=6\n",
    "plt.savefig('bar.pdf', bbox_inches = 'tight')"
   ]
  },
  {
   "cell_type": "markdown",
   "metadata": {},
   "source": [
    "# T test between the indice of inter3 of 'Intra 5 + Inter 3' and 'Sühr et al. 2019'"
   ]
  },
  {
   "cell_type": "code",
   "execution_count": 20,
   "metadata": {},
   "outputs": [],
   "source": [
    "l1=parity[parity['inter_num']=='Intra 5 + Inter 1']['inter3']\n",
    "l2=parity[parity['inter_num']=='Intra 5 + Inter 2']['inter3']\n",
    "l3=parity[parity['inter_num']=='Intra 5 + Inter 3']['inter3']\n",
    "l4=parity[parity['inter_num']=='Sühr et al. 2019']['inter3']"
   ]
  },
  {
   "cell_type": "code",
   "execution_count": 29,
   "metadata": {
    "scrolled": true
   },
   "outputs": [
    {
     "data": {
      "text/plain": [
       "Ttest_indResult(statistic=-3.044727821590493, pvalue=0.0034988613915774977)"
      ]
     },
     "execution_count": 29,
     "metadata": {},
     "output_type": "execute_result"
    }
   ],
   "source": [
    "stats.ttest_ind(l3,l4)"
   ]
  },
  {
   "cell_type": "markdown",
   "metadata": {},
   "source": [
    "# Anova test among the indice of inter3 of all methods"
   ]
  },
  {
   "cell_type": "code",
   "execution_count": 30,
   "metadata": {
    "scrolled": true
   },
   "outputs": [
    {
     "data": {
      "text/plain": [
       "F_onewayResult(statistic=5.13202623374904, pvalue=0.002278439321882308)"
      ]
     },
     "execution_count": 30,
     "metadata": {},
     "output_type": "execute_result"
    }
   ],
   "source": [
    "stats.f_oneway(l1,l2,l3,l4)"
   ]
  }
 ],
 "metadata": {
  "kernelspec": {
   "display_name": "Python 3",
   "language": "python",
   "name": "python3"
  },
  "language_info": {
   "codemirror_mode": {
    "name": "ipython",
    "version": 3
   },
   "file_extension": ".py",
   "mimetype": "text/x-python",
   "name": "python",
   "nbconvert_exporter": "python",
   "pygments_lexer": "ipython3",
   "version": "3.8.5"
  }
 },
 "nbformat": 4,
 "nbformat_minor": 4
}
